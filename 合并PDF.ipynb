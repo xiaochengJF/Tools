{
  "nbformat": 4,
  "nbformat_minor": 0,
  "metadata": {
    "colab": {
      "name": "合并PDF.ipynb",
      "provenance": [],
      "collapsed_sections": [],
      "mount_file_id": "1xKkb1ijIA04OTYhwXRabPLIuSCAfCiDW",
      "authorship_tag": "ABX9TyONm3WKZDXPMUA0jNYPdxgd",
      "include_colab_link": true
    },
    "kernelspec": {
      "name": "python3",
      "display_name": "Python 3"
    }
  },
  "cells": [
    {
      "cell_type": "markdown",
      "metadata": {
        "id": "view-in-github",
        "colab_type": "text"
      },
      "source": [
        "<a href=\"https://colab.research.google.com/github/xiaochengJF/Tools/blob/master/%E5%90%88%E5%B9%B6PDF.ipynb\" target=\"_parent\"><img src=\"https://colab.research.google.com/assets/colab-badge.svg\" alt=\"Open In Colab\"/></a>"
      ]
    },
    {
      "cell_type": "code",
      "metadata": {
        "id": "0DJ7PiioFvd0",
        "colab_type": "code",
        "outputId": "74009446-6294-4c50-b36c-70f830444fd4",
        "colab": {
          "base_uri": "https://localhost:8080/",
          "height": 217
        }
      },
      "source": [
        "!pip install PyPDF2"
      ],
      "execution_count": 0,
      "outputs": [
        {
          "output_type": "stream",
          "text": [
            "Collecting PyPDF2\n",
            "\u001b[?25l  Downloading https://files.pythonhosted.org/packages/b4/01/68fcc0d43daf4c6bdbc6b33cc3f77bda531c86b174cac56ef0ffdb96faab/PyPDF2-1.26.0.tar.gz (77kB)\n",
            "\r\u001b[K     |████▎                           | 10kB 19.1MB/s eta 0:00:01\r\u001b[K     |████████▌                       | 20kB 1.8MB/s eta 0:00:01\r\u001b[K     |████████████▊                   | 30kB 2.6MB/s eta 0:00:01\r\u001b[K     |█████████████████               | 40kB 1.7MB/s eta 0:00:01\r\u001b[K     |█████████████████████▏          | 51kB 2.1MB/s eta 0:00:01\r\u001b[K     |█████████████████████████▍      | 61kB 2.5MB/s eta 0:00:01\r\u001b[K     |█████████████████████████████▋  | 71kB 2.9MB/s eta 0:00:01\r\u001b[K     |████████████████████████████████| 81kB 2.5MB/s \n",
            "\u001b[?25hBuilding wheels for collected packages: PyPDF2\n",
            "  Building wheel for PyPDF2 (setup.py) ... \u001b[?25l\u001b[?25hdone\n",
            "  Created wheel for PyPDF2: filename=PyPDF2-1.26.0-cp36-none-any.whl size=61086 sha256=90de86b7600f362a77eaed38e1fa3e81f13c75b88e79f85652469ec66cd5e7fb\n",
            "  Stored in directory: /root/.cache/pip/wheels/53/84/19/35bc977c8bf5f0c23a8a011aa958acd4da4bbd7a229315c1b7\n",
            "Successfully built PyPDF2\n",
            "Installing collected packages: PyPDF2\n",
            "Successfully installed PyPDF2-1.26.0\n"
          ],
          "name": "stdout"
        }
      ]
    },
    {
      "cell_type": "code",
      "metadata": {
        "id": "e-8ZdxoOFTWz",
        "colab_type": "code",
        "outputId": "ac8e63c4-4369-4300-f813-b7c91ec65b30",
        "colab": {
          "base_uri": "https://localhost:8080/",
          "height": 35
        }
      },
      "source": [
        "cd /content/drive/My Drive/My/Tools/MergePDF"
      ],
      "execution_count": 0,
      "outputs": [
        {
          "output_type": "stream",
          "text": [
            "/content/drive/My Drive/My/Tools/MergePDF\n"
          ],
          "name": "stdout"
        }
      ]
    },
    {
      "cell_type": "code",
      "metadata": {
        "id": "Kqj1ltL1E4XE",
        "colab_type": "code",
        "outputId": "30108ddc-e684-4d6b-9099-59bebe376f0b",
        "colab": {
          "base_uri": "https://localhost:8080/",
          "height": 197
        }
      },
      "source": [
        "# -*- coding:utf-8*-\n",
        "import os\n",
        "from PyPDF2 import PdfFileReader, PdfFileWriter\n",
        "import time\n",
        "\n",
        "# 使用os模块的walk函数，搜索出指定目录下的全部PDF文件\n",
        "# 获取同一目录下的所有PDF文件的绝对路径\n",
        "def getFileName(filedir):\n",
        "\n",
        "    file_list = [os.path.join(root, filespath) \\\n",
        "                 for root, dirs, files in os.walk(filedir) \\\n",
        "                 for filespath in files \\\n",
        "                 if str(filespath).endswith('pdf')\n",
        "                 ]\n",
        "    return file_list if file_list else []\n",
        "\n",
        "# 合并同一目录下的所有PDF文件\n",
        "def MergePDF(filepath, outfile):\n",
        "\n",
        "    output = PdfFileWriter()\n",
        "    outputPages = 0\n",
        "    pdf_fileName = getFileName(filepath)\n",
        "\n",
        "    if pdf_fileName:\n",
        "        for pdf_file in pdf_fileName:\n",
        "            print(\"路径：%s\"%pdf_file)\n",
        "\n",
        "            # 读取源PDF文件\n",
        "            input = PdfFileReader(open(pdf_file, \"rb\"))\n",
        "\n",
        "            # 获得源PDF文件中页面总数\n",
        "            pageCount = input.getNumPages()\n",
        "            outputPages += pageCount\n",
        "            print(\"页数：%d\"%pageCount)\n",
        "\n",
        "            # 分别将page添加到输出output中\n",
        "            for iPage in range(pageCount):\n",
        "                output.addPage(input.getPage(iPage))\n",
        "\n",
        "        print(\"合并后的总页数:%d.\"%outputPages)\n",
        "        # 写入到目标PDF文件\n",
        "        outputStream = open(os.path.join(filepath, outfile), \"wb\")\n",
        "        output.write(outputStream)\n",
        "        outputStream.close()\n",
        "        print(\"PDF文件合并完成！\")\n",
        "\n",
        "    else:\n",
        "        print(\"没有可以合并的PDF文件！\")\n",
        "\n",
        "# 主函数\n",
        "def main():\n",
        "    time1 = time.time()\n",
        "    file_dir = r'/content/drive/My Drive/My/Tools/MergePDF' # 存放PDF的原文件夹\n",
        "    outfile = \"MergedPDF.pdf\" # 输出的PDF文件的名称\n",
        "    MergePDF(file_dir, outfile)\n",
        "    time2 = time.time()\n",
        "    print('总共耗时：%s s.' %(time2 - time1))\n",
        "\n",
        "main()"
      ],
      "execution_count": 0,
      "outputs": [
        {
          "output_type": "stream",
          "text": [
            "路径：/content/drive/My Drive/My/Tools/MergePDF/SCI-Expanded0.pdf\n",
            "页数：24\n",
            "路径：/content/drive/My Drive/My/Tools/MergePDF/SCI-Expanded2.pdf\n",
            "页数：1\n",
            "路径：/content/drive/My Drive/My/Tools/MergePDF/SCI-Expanded.pdf\n",
            "页数：3\n",
            "合并后的总页数:28.\n"
          ],
          "name": "stdout"
        },
        {
          "output_type": "stream",
          "text": [
            "PdfReadWarning: Xref table not zero-indexed. ID numbers for objects will be corrected. [pdf.py:1736]\n"
          ],
          "name": "stderr"
        },
        {
          "output_type": "stream",
          "text": [
            "PDF文件合并完成！\n",
            "总共耗时：0.34801530838012695 s.\n"
          ],
          "name": "stdout"
        }
      ]
    },
    {
      "cell_type": "code",
      "metadata": {
        "id": "0n_C64e7F0Ya",
        "colab_type": "code",
        "colab": {}
      },
      "source": [
        ""
      ],
      "execution_count": 0,
      "outputs": []
    }
  ]
}